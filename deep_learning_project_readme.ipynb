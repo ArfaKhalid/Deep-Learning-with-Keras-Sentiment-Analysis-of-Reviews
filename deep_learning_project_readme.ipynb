{
  "nbformat": 4,
  "nbformat_minor": 0,
  "metadata": {
    "colab": {
      "provenance": [],
      "authorship_tag": "ABX9TyN9QuCHAmM1abmcAv2dSxBr",
      "include_colab_link": true
    },
    "kernelspec": {
      "name": "python3",
      "display_name": "Python 3"
    },
    "language_info": {
      "name": "python"
    }
  },
  "cells": [
    {
      "cell_type": "markdown",
      "metadata": {
        "id": "view-in-github",
        "colab_type": "text"
      },
      "source": [
        "<a href=\"https://colab.research.google.com/github/ArfaKhalid/Deep-Learning-with-Keras-Sentiment-Analysis-of-Reviews/blob/main/deep_learning_project_readme.ipynb\" target=\"_parent\"><img src=\"https://colab.research.google.com/assets/colab-badge.svg\" alt=\"Open In Colab\"/></a>"
      ]
    },
    {
      "cell_type": "markdown",
      "source": [
        "# **Sentiment analysis model using deep learning with Keras**"
      ],
      "metadata": {
        "id": "bVqId0gqqIb3"
      }
    },
    {
      "cell_type": "markdown",
      "source": [
        "This project involves building a sentiment analysis model using deep learning with Keras. The goal is to analyze the sentiment of movie reviews from the IMDB dataset, which consists of 50,000 reviews labeled as positive or negative. The dataset is split into 25,000 reviews for training and 25,000 for testing.\n",
        "\n",
        "The project follows these key steps:\n",
        "\n",
        "1. **Data Loading and Preprocessing:**\n",
        "   - The IMDB dataset is loaded using Keras, and the reviews are represented as sequences of integers.\n",
        "   - A dictionary is used to map words to integers, allowing text data to be processed numerically.\n",
        "   - To ensure consistent input lengths, the reviews are padded or truncated to a fixed length of 500 integers.\n",
        "\n",
        "2. **Model Building:**\n",
        "   - A neural network model is constructed using Keras with an embedding layer, flatten layer, and dense layers.\n",
        "   - The embedding layer is crucial for processing word data in neural networks.\n",
        "   - Dense layers are fully connected layers, and the final layer produces a binary sentiment prediction (positive or negative).\n",
        "   - The model is compiled with binary cross-entropy loss and the Adam optimizer.\n",
        "\n",
        "3. **Training the Model:**\n",
        "   - The model is trained using the training data, and the training process is monitored for accuracy and loss.\n",
        "   - The training duration is estimated to be around 6 minutes for 5 epochs.\n",
        "   - The model exhibits rapid learning, achieving high accuracy quickly.\n",
        "\n",
        "4. **Overfitting Check:**\n",
        "   - The training and validation loss are plotted to check for signs of overfitting.\n",
        "   - The model appears to perform well with a small number of epochs, and further training might lead to overfitting.\n",
        "\n",
        "5. **Model Evaluation:**\n",
        "   - The trained model is evaluated on the test data, resulting in an accuracy of 86.97%.\n",
        "\n",
        "6. **Sentiment Analysis Function:**\n",
        "   - A function named `analyze` is defined to predict sentiment scores for custom text inputs.\n",
        "   - The function preprocesses the input, converts it into a numerical format, and utilizes the trained model for prediction.\n",
        "\n",
        "7. **Sentiment Analysis Examples:**\n",
        "   - The sentiment analysis function is applied to various text inputs, showcasing the model's ability to discern positive and negative sentiments.\n",
        "\n",
        "8. **Conclusion:**\n",
        "   - The model demonstrates reasonable proficiency in sentiment analysis, and its versatility is highlighted by its potential application beyond movie reviews.\n",
        "\n",
        "Overall, the project provides a comprehensive overview of building and training a sentiment analysis model using deep learning with Keras, along with practical examples of sentiment analysis on custom text inputs."
      ],
      "metadata": {
        "id": "cO-QuTAqqEXA"
      }
    }
  ]
}